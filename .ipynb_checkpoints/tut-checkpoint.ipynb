{
 "cells": [
  {
   "cell_type": "code",
   "execution_count": 8,
   "metadata": {},
   "outputs": [
    {
     "data": {
      "application/vnd.jupyter.widget-view+json": {
       "model_id": "60f786abd28b4f6bbdaa283b7526f7b7",
       "version_major": 2,
       "version_minor": 0
      },
      "text/plain": [
       "interactive(children=(IntSlider(value=5005000, description='F', max=10000000, min=10000, step=1000), IntSlider…"
      ]
     },
     "metadata": {},
     "output_type": "display_data"
    },
    {
     "data": {
      "application/vnd.jupyter.widget-view+json": {
       "model_id": "9cb74988c9c94a7b9d27bfd20be822dc",
       "version_major": 2,
       "version_minor": 0
      },
      "text/plain": [
       "interactive(children=(IntSlider(value=5005000, description='F', max=10000000, min=10000, step=1000), IntSlider…"
      ]
     },
     "metadata": {},
     "output_type": "display_data"
    }
   ],
   "source": [
    "import ipywidgets as widgets\n",
    "from ipywidgets import interact, interactive, fixed, interact_manual\n",
    "from ipywidgets.embed import embed_minimal_html\n",
    "import numpy as np\n",
    "import pandas as pd\n",
    "import matplotlib.pyplot as plt\n",
    "import mplcursors\n",
    "#%matplotlib inline\n",
    "\n",
    "def client_server(n,F,us,dmin):\n",
    "    return max(n*F/us, F/dmin)\n",
    "\n",
    "def peer_to_peer(n,u,F,us,dmin):\n",
    "    return max(F/us, F/dmin, n*F/(us + sum(u)))\n",
    "\n",
    "def cliser(F,us,dmin):\n",
    "    N = [10, 100, 200, 400, 600, 800, 1000]\n",
    "    cs = [client_server(n,F,us,dmin) for n in N]\n",
    "    plt.plot(N, cs, 'bo')\n",
    "    plt.plot(N, cs, 'b', label='Client-Server')\n",
    "    plt.title('Minimum Distribution Time for Client-Server Architecture')\n",
    "    plt.xlabel('Number of Peers')\n",
    "    plt.ylabel('Minimum Distribution Time (s)')\n",
    "    mplcursors.cursor(hover=True)\n",
    "    plt.show()\n",
    "    return cs\n",
    "\n",
    "def p2ps(F,us,dmin):\n",
    "    N = [10, 100, 200, 400, 600, 800, 1000]\n",
    "    u = [100, 200, 300, 400, 600, 800, 1000]\n",
    "    p2p = [peer_to_peer(N[i], [u[i]] * N[i],F,us,dmin) for i in range(len(N))]\n",
    "    plt.plot(N, p2p, 'ro')\n",
    "    plt.plot(N, p2p, 'r', label='P2P')\n",
    "    plt.title('Minimum Distribution Time for peer to peer Architecture')\n",
    "    plt.xlabel('Number of Peers')\n",
    "    plt.ylabel('Minimum Distribution Time (s)')\n",
    "    mplcursors.cursor(hover=True)\n",
    "    plt.show()\n",
    "    return p2p\n",
    "\n",
    "y=interactive(cliser,F=(10**4,10**7,1000),us=(1000,20000,100),\n",
    "              dmin=(10,2000,10))\n",
    "x=interactive(p2ps,F=(10**4,10**7,1000),us=(1000,20000,100),\n",
    "              dmin=(10,2000,10))\n",
    "\n",
    "display(y)\n",
    "display(x)\n"
   ]
  },
  {
   "cell_type": "code",
   "execution_count": null,
   "metadata": {},
   "outputs": [],
   "source": []
  },
  {
   "cell_type": "code",
   "execution_count": null,
   "metadata": {},
   "outputs": [],
   "source": []
  }
 ],
 "metadata": {
  "kernelspec": {
   "display_name": "Python 3",
   "language": "python",
   "name": "python3"
  },
  "language_info": {
   "codemirror_mode": {
    "name": "ipython",
    "version": 3
   },
   "file_extension": ".py",
   "mimetype": "text/x-python",
   "name": "python",
   "nbconvert_exporter": "python",
   "pygments_lexer": "ipython3",
   "version": "3.7.2"
  }
 },
 "nbformat": 4,
 "nbformat_minor": 2
}
