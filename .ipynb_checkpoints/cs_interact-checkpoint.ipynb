{
 "cells": [
  {
   "cell_type": "code",
   "execution_count": 1,
   "metadata": {},
   "outputs": [
    {
     "data": {
      "application/vnd.jupyter.widget-view+json": {
       "model_id": "aa95f9a642c64e1cbe5064691736dbcb",
       "version_major": 2,
       "version_minor": 0
      },
      "text/plain": [
       "interactive(children=(IntSlider(value=5005000, description='F', max=10000000, min=10000, step=1000), IntSlider…"
      ]
     },
     "metadata": {},
     "output_type": "display_data"
    },
    {
     "data": {
      "text/plain": [
       "<function __main__.cliser(F, us, dmin)>"
      ]
     },
     "execution_count": 1,
     "metadata": {},
     "output_type": "execute_result"
    }
   ],
   "source": [
    "# nbi:hide_in\n",
    "from ipywidgets import interact, interactive, fixed, interact_manual\n",
    "import ipywidgets as widgets\n",
    "import numpy as np\n",
    "import pandas as pd\n",
    "import matplotlib.pyplot as plt\n",
    "import mplcursors\n",
    "%matplotlib inline\n",
    "\n",
    "# nbi:hide_in\n",
    "def client_server(n,F,us,dmin):\n",
    "    return max(n*F/us, F/dmin)\n",
    "\n",
    "def cliser(F,us,dmin):\n",
    "    N = [10, 100, 200, 400, 600, 800, 1000]\n",
    "    cs = [client_server(n,F,us,dmin) for n in N]\n",
    "    plt.plot(N, cs, 'bo')\n",
    "    plt.plot(N, cs, 'b', label='Client-Server')\n",
    "    plt.title('Minimum Distribution Time for Client-Server Architecture')\n",
    "    plt.xlabel('Number of Peers')\n",
    "    plt.ylabel('Minimum Distribution Time (Kbps)')\n",
    "    mplcursors.cursor(hover=True)\n",
    "    plt.show()\n",
    "    return cs\n",
    "# nbi:hide_in\n",
    "widgets.interact(cliser,F=(10**4,10**7,1000),us=(10000,20000,100),\n",
    "              dmin=(1000,2000,100))\n"
   ]
  },
  {
   "cell_type": "code",
   "execution_count": null,
   "metadata": {},
   "outputs": [],
   "source": []
  }
 ],
 "metadata": {
  "kernelspec": {
   "display_name": "Python 3",
   "language": "python",
   "name": "python3"
  },
  "language_info": {
   "codemirror_mode": {
    "name": "ipython",
    "version": 3
   },
   "file_extension": ".py",
   "mimetype": "text/x-python",
   "name": "python",
   "nbconvert_exporter": "python",
   "pygments_lexer": "ipython3",
   "version": "3.7.2"
  }
 },
 "nbformat": 4,
 "nbformat_minor": 2
}
