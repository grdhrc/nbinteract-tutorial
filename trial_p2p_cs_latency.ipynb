{
 "cells": [
  {
   "cell_type": "markdown",
   "metadata": {},
   "source": [
    "# Minimum File Distribution time in  Urban areas where Latency is Low"
   ]
  },
  {
   "cell_type": "code",
   "execution_count": 9,
   "metadata": {},
   "outputs": [
    {
     "data": {
      "application/vnd.jupyter.widget-view+json": {
       "model_id": "3ba7b8beae414146957b4dd25db50eb8",
       "version_major": 2,
       "version_minor": 0
      },
      "text/plain": [
       "interactive(children=(IntSlider(value=5005000, description='F', max=10000000, min=10000, step=1000), IntSlider…"
      ]
     },
     "metadata": {},
     "output_type": "display_data"
    },
    {
     "data": {
      "application/vnd.jupyter.widget-view+json": {
       "model_id": "2cccacc50f4940d485af67b8e2642ee8",
       "version_major": 2,
       "version_minor": 0
      },
      "text/plain": [
       "interactive(children=(IntSlider(value=5005000, description='F', max=10000000, min=10000, step=1000), IntSlider…"
      ]
     },
     "metadata": {},
     "output_type": "display_data"
    }
   ],
   "source": [
    "# nbi:hide_in\n",
    "import ipywidgets as widgets\n",
    "from ipywidgets import interact, interactive, fixed, interact_manual\n",
    "from ipywidgets.embed import embed_minimal_html\n",
    "import numpy as np\n",
    "import pandas as pd\n",
    "import matplotlib.pyplot as plt\n",
    "import mplcursors\n",
    "%matplotlib inline\n",
    "\n",
    "# nbi:hide_in\n",
    "def cs_time(n,F,us,dmin):\n",
    "    return max(n*F/us, F/dmin)\n",
    "\n",
    "def p2p_time(n,u,F,us,dmin):\n",
    "    return max(F/us, F/dmin, n*F/(us + sum(u)))\n",
    "\n",
    "def cliser(F,us,dmin,Latency):\n",
    "    peers = [10, 100, 200, 300, 400, 500, 600, 800]\n",
    "    cs = [Latency*cs_time(n,F,us,dmin) for n in peers]\n",
    "    plt.plot(peers, cs, 'bo')\n",
    "    plt.plot(peers, cs, 'b', label='Client-Server')\n",
    "    plt.title('Minimum Distribution Time for Client-Server Architecture')\n",
    "    plt.xlabel('Number of Peers')\n",
    "    plt.ylabel('Minimum Distribution Time (s)')\n",
    "    mplcursors.cursor(hover=True)\n",
    "    plt.show()\n",
    "    return cs\n",
    "\n",
    "def p2ps(F,us,dmin,Latency):\n",
    "    peers = [10, 100, 200, 300, 400, 500, 600]\n",
    "    u = [100, 200, 300, 400, 600, 800, 1000]\n",
    "    p2p = [Latency*p2p_time(peers[i], [u[i]] * peers[i],F,us,dmin) for i in range(len(peers))]\n",
    "    plt.plot(peers, p2p, 'ro')\n",
    "    plt.plot(peers, p2p, 'r', label='P2P')\n",
    "    plt.title('Minimum Distribution Time for peer to peer Architecture')\n",
    "    plt.xlabel('Number of Peers')\n",
    "    plt.ylabel('Minimum Distribution Time (s)')\n",
    "    mplcursors.cursor(hover=True)\n",
    "    plt.show()\n",
    "    return p2p\n",
    "\n",
    "# nbi:hide_in\n",
    "y=interactive(cliser,F=(10**4,10**7,1000),us=(1000,20000,100),\n",
    "              dmin=(10,2000,10),Latency=(0.05,0.10,0.01))\n",
    "x=interactive(p2ps,F=(10**4,10**7,1000),us=(1000,20000,100),\n",
    "              dmin=(10,2000,10),Latency=(0.05,0.10,0.01))\n",
    "\n",
    "display(y)\n",
    "display(x) \n"
   ]
  },
  {
   "cell_type": "markdown",
   "metadata": {},
   "source": [
    "# Minimum File Distribution time in Rural  areas where Latency is High"
   ]
  },
  {
   "cell_type": "code",
   "execution_count": 8,
   "metadata": {},
   "outputs": [
    {
     "data": {
      "application/vnd.jupyter.widget-view+json": {
       "model_id": "d13979eec5b44a0c98ec0092ac4caa4a",
       "version_major": 2,
       "version_minor": 0
      },
      "text/plain": [
       "interactive(children=(IntSlider(value=5005000, description='F', max=10000000, min=10000, step=1000), IntSlider…"
      ]
     },
     "metadata": {},
     "output_type": "display_data"
    },
    {
     "data": {
      "application/vnd.jupyter.widget-view+json": {
       "model_id": "8b0e389b011f4d089d44fd191c868664",
       "version_major": 2,
       "version_minor": 0
      },
      "text/plain": [
       "interactive(children=(IntSlider(value=5005000, description='F', max=10000000, min=10000, step=1000), IntSlider…"
      ]
     },
     "metadata": {},
     "output_type": "display_data"
    }
   ],
   "source": [
    "# nbi:hide_in\n",
    "import ipywidgets as widgets\n",
    "from ipywidgets import interact, interactive, fixed, interact_manual\n",
    "from ipywidgets.embed import embed_minimal_html\n",
    "import numpy as np\n",
    "import pandas as pd\n",
    "import matplotlib.pyplot as plt\n",
    "import mplcursors\n",
    "%matplotlib inline\n",
    "\n",
    "# nbi:hide_in\n",
    "def cs_time(n,F,us,dmin):\n",
    "    return max(n*F/us, F/dmin)\n",
    "\n",
    "def p2p_time(n,u,F,us,dmin):\n",
    "    return max(F/us, F/dmin, n*F/(us + sum(u)))\n",
    "\n",
    "def cliser(F,us,dmin,Latency):\n",
    "    peers = [10, 100, 200, 300, 400, 500, 600, 800]\n",
    "    cs = [Latency*cs_time(n,F,us,dmin) for n in peers]\n",
    "    plt.plot(peers, cs, 'bo')\n",
    "    plt.plot(peers, cs, 'b', label='Client-Server')\n",
    "    plt.title('Minimum Distribution Time for Client-Server Architecture')\n",
    "    plt.xlabel('Number of Peers')\n",
    "    plt.ylabel('Minimum Distribution Time (s)')\n",
    "    mplcursors.cursor(hover=True)\n",
    "    plt.show()\n",
    "    return cs\n",
    "\n",
    "def p2ps(F,us,dmin,Latency):\n",
    "    peers = [10, 20 ,50 ,80, 100, 200, 300, 400, 500, 600]\n",
    "    u = [100, 150, 200, 250, 300, 350, 400, 600, 800, 1000]\n",
    "    p2p = [Latency*p2p_time(peers[i], [u[i]] * peers[i],F,us,dmin) for i in range(len(peers))]\n",
    "    plt.plot(peers, p2p, 'ro')\n",
    "    plt.plot(peers, p2p, 'r', label='P2P')\n",
    "    plt.title('Minimum Distribution Time for peer to peer Architecture')\n",
    "    plt.xlabel('Number of Peers')\n",
    "    plt.ylabel('Minimum Distribution Time (s)')\n",
    "    mplcursors.cursor(hover=True)\n",
    "    plt.show()\n",
    "    return p2p\n",
    "\n",
    "# nbi:hide_in\n",
    "y=interactive(cliser,F=(10**4,10**7,1000),us=(1000,20000,100),\n",
    "              dmin=(10,2000,10),Latency=(0.15,0.30,0.01))\n",
    "x=interactive(p2ps,F=(10**4,10**7,1000),us=(1000,20000,100),\n",
    "              dmin=(10,2000,10),Latency=(0.15,0.30,0.01))\n",
    "\n",
    "display(y)\n",
    "display(x) \n"
   ]
  },
  {
   "cell_type": "code",
   "execution_count": null,
   "metadata": {},
   "outputs": [],
   "source": []
  }
 ],
 "metadata": {
  "kernelspec": {
   "display_name": "Python 3",
   "language": "python",
   "name": "python3"
  },
  "language_info": {
   "codemirror_mode": {
    "name": "ipython",
    "version": 3
   },
   "file_extension": ".py",
   "mimetype": "text/x-python",
   "name": "python",
   "nbconvert_exporter": "python",
   "pygments_lexer": "ipython3",
   "version": "3.7.3"
  }
 },
 "nbformat": 4,
 "nbformat_minor": 2
}
